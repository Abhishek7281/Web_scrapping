{
 "cells": [
  {
   "cell_type": "code",
   "execution_count": null,
   "id": "348cb56f",
   "metadata": {},
   "outputs": [],
   "source": [
    "import pandas as pd\n",
    "from sklearn.model_selection import train_test_split\n",
    "from sklearn.ensemble import RandomForestClassifier\n",
    "\n",
    "# Load the Kepler data\n",
    "kepler_data = pd.read_csv(\"/content/kepler_data.csv\")\n",
    "\n",
    "# Split the data into training and test sets\n",
    "X_train, X_test, y_train, y_test = train_test_split(kepler_data[[\"koi_disposition\", \"koi_period\", \"koi_impact\", \"koi_duration\", \"koi_depth\"]], kepler_data[\"koi_disposition\"], test_size=0.25)\n",
    "\n",
    "# Create a random forest classifier\n",
    "clf = RandomForestClassifier()\n",
    "\n",
    "# Train the model\n",
    "clf.fit(X_train, y_train)\n",
    "\n",
    "# Evaluate the model\n",
    "y_pred = clf.predict(X_test)\n",
    "accuracy = np.mean(y_pred == y_test) * 100\n",
    "print(\"Model accuracy:\", accuracy)"
   ]
  }
 ],
 "metadata": {
  "kernelspec": {
   "display_name": "Python 3 (ipykernel)",
   "language": "python",
   "name": "python3"
  },
  "language_info": {
   "codemirror_mode": {
    "name": "ipython",
    "version": 3
   },
   "file_extension": ".py",
   "mimetype": "text/x-python",
   "name": "python",
   "nbconvert_exporter": "python",
   "pygments_lexer": "ipython3",
   "version": "3.9.13"
  }
 },
 "nbformat": 4,
 "nbformat_minor": 5
}
